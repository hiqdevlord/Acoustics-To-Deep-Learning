{
 "metadata": {
  "name": "",
  "signature": "sha256:4cfa9fe732f3b7258911707f8865c1041650a8efe85fc6d916ea038066877732"
 },
 "nbformat": 3,
 "nbformat_minor": 0,
 "worksheets": [
  {
   "cells": [
    {
     "cell_type": "markdown",
     "metadata": {},
     "source": [
      "#Waffles and Harmonic Motion [Part I]\n",
      "\n",
      "@stephencwelch\n",
      "[welchlabs.com/blog](http://www.welchlabs.com/blog)\n",
      "\n",
      "Note that for interactive plots to work, you will need to run the code on your machine. You can download the [notebook](https://github.com/stephencwelch/Acoustics-To-Deep-Learning) from github. I recommend the [anaconda](http://continuum.io/downloads) python distribution. "
     ]
    },
    {
     "cell_type": "markdown",
     "metadata": {},
     "source": [
      "The world is full of all kinds motion. \n",
      "\n",
      "Objects can move in straight lines, circles, or more complicated paths. Most of the objects we interact with, when pushed, move for a little while and then come to rest. \n",
      "\n",
      "But some things, when you give them a push, don't stop right away. They keep moving. \n",
      "\n",
      "And they don't just move in any pattern, they move in\u2026.waves! And we didn't impose this motion on the object, all we did was start the motion. In fact, it doesn't really matter how we start the motion, the weight will still move back and forth in a wave like pattern.\n",
      "\n",
      "So somehow, built into this system, there must be instructions on how to move. The spring has \"already decided what it's motion is going be\", and it doesn't really care how we get the motion going. But how can a system like this \"know how to move\", and why does it choose to move with the motion of a wave? Is there something special or fundamental to nature about this shape, or is it just convenient in this case?\n",
      "\n",
      "Let's address the question of how the spring \"knows\" to move like a wave first. \n",
      "\n",
      "Newton's second law could be helpful here, which reminds us that if we're trying to figure out how something is moving, we should pay attention to the forces on the object. So we should probably know how much the spring is pushing on the mass. "
     ]
    },
    {
     "cell_type": "markdown",
     "metadata": {},
     "source": [
      "$$\n",
      "F = ma\n",
      "$$"
     ]
    },
    {
     "cell_type": "markdown",
     "metadata": {},
     "source": [
      "As we stretch or compress a spring, we expect the spring to push or pull back, and if we plot how much it  pushes or pulls against how far we push or pull it, most springs give us a nice, linear graph. This relationship is known as Hooke's Law, and can be written as $F = -kx$, where k is the spring constant, which tells us how rigid our spring is. The minus sign is a result of the force of the spring opposing our motion - the spring always \"pushes or pulls against us\"."
     ]
    },
    {
     "cell_type": "markdown",
     "metadata": {},
     "source": [
      " Now that we have two equations, let's do the sensible thing here and put them together. We now have a little mathematical machine that relates or position of the mass to its acceleration. The further our mass is away from equilibrium, the more the spring pushes or pulls on it. "
     ]
    },
    {
     "cell_type": "markdown",
     "metadata": {},
     "source": [
      "$$\n",
      "ma = -kx\n",
      "$$"
     ]
    },
    {
     "cell_type": "markdown",
     "metadata": {},
     "source": [
      "While a and x change as our spring moves, k and m are constant. K tells us how much our spring will push back when displaced a certain amount, and m tells us how much our mass will accelerate with pushed a certain amount. \n",
      "\n",
      "So if our math is right, and our physics is right, then somewhere in this equation there should be wave hiding. I don't see it yet, but let's see what else we can figure out about our equation. \n",
      "\n",
      "We know that position and acceleration are connected somehow, because if I want to move something, accelerating it is a great place to start. However, accelerating an object does not immediately change its position, instead it changes its velocity, which in turn changes its position. \n",
      "\n",
      "Velocity is how much an objects' position changes in a given amount of time. And acceleration is how much an object's velocity changes in a given amount of time. We can write these mathematically in a few different ways. "
     ]
    },
    {
     "cell_type": "markdown",
     "metadata": {},
     "source": [
      "$$\n",
      "v = \\frac{\\Delta a}{\\Delta t} \\\\\n",
      "x = \\frac{\\Delta v}{\\Delta t}\n",
      "$$\n",
      "\n",
      "$$\n",
      "a = -x\n",
      "$$"
     ]
    },
    {
     "cell_type": "markdown",
     "metadata": {},
     "source": [
      "The important part for us is that for a given position of our mass, we can compute the acceleration from our force equation, and then use our understanding of the connection between acceleration velocity and position do figure out where the mass is going to \"go\" next. Once our mass \"gets\" to the next spot, since the acceleration and position are changing, we need to repeat the process, again asking our equations where they predict the mass will go next. \n",
      "\n",
      "So let's try it. We established that k and m are constants, so to make our math simpler, let's assume that our spring constant is 1 and our mass is 1 kg. We'll start out mass with a position of 1 m, and a velocity of 0. \n",
      "\n",
      "The instant we release our mass, it experiences a force from the spring. That force accelerates the mass and changes the velocity in the direction of the force. But how much does the acceleration change the velocity? If we accelerate our mass with acceleration a for delta t seconds, we will change our velocity by a times delta t. Likewise, if our object experiences a velocity v for delta t seconds, it will move a distance of v times delta t. We generally want delta t to be small, to produce accurate results, so let's let delta t be 0.1 seconds. \n",
      "\n",
      "So that's all well and good - but there is a small complication. Since velocity is changing, we need to think carefully about which velocity we're using. For the interval we cover in delta t seconds, it seems silly to use the velocity at the beginning or end, since those don't really represent what happened OVER the interval - so instead we'll use the velocity in the middle of the interval. "
     ]
    },
    {
     "cell_type": "markdown",
     "metadata": {},
     "source": [
      "$$\n",
      "a(t) = -x(t) \\\\\n",
      "v(t+\\Delta t/2) = v(t - \\Delta t/2) + \\Delta t a(t) \\\\\n",
      "x(t+\\Delta t ) = x(t) + \\Delta t v(t + \\Delta t/2) \\\\\n",
      "$$"
     ]
    },
    {
     "cell_type": "markdown",
     "metadata": {},
     "source": [
      "We now can write a set of equations we can use to determine how our position, velocity, and acceleration change over time as controlled by our spring. We can keep track of our results in a table. At time zero, our mass is not moving (velocity zero), and at a position of 1 m. As soon as we let go, we know that since a = -x, our mass will be accelerated at a rate of -1. This will give our mass a small amount of velocity in the negative direction, and this velocity will begin to move our mass. \n",
      "\n",
      "We can repeat the process over and over and follow the motion of the mass. Since there's a lot of repetitive calculations involved, and computers happen to be really good at that sort of thing, let's write some python code to speed things up. We'll write a python method that will take in the position and acceleration at the beginning of the interval, the velocity halfway through the previous interval, and compute the acceleration and position at the end of the current interval, and the velocity halfway through the current interval. \n"
     ]
    },
    {
     "cell_type": "code",
     "collapsed": false,
     "input": [
      "from IPython.html.widgets import interact"
     ],
     "language": "python",
     "metadata": {},
     "outputs": [],
     "prompt_number": 14
    },
    {
     "cell_type": "code",
     "collapsed": false,
     "input": [
      "def numericalStep(xi, vi, deltaT):\n",
      "    #Compute acceleration:\n",
      "    ai = -1*xi\n",
      "    \n",
      "    #Compute velocity half way through the interval:\n",
      "    v = vi + deltaT*ai\n",
      "    \n",
      "    #Compute final position:\n",
      "    x = xi + deltaT*v\n",
      "    \n",
      "    return x, v"
     ],
     "language": "python",
     "metadata": {},
     "outputs": [],
     "prompt_number": 15
    },
    {
     "cell_type": "markdown",
     "metadata": {},
     "source": [
      "We can now run our method over and over, each time using the output from the last step as the input of the next step. As we plot the results, we see our familiar waveform emerge! "
     ]
    },
    {
     "cell_type": "code",
     "collapsed": false,
     "input": [
      "def plotNumericalStep(numSteps = 1):\n",
      "    #Function that setups up initial conditions, iterates through method, and plots results:\n",
      "    deltaT = 0.1\n",
      "\n",
      "    #Initialize Vectors:\n",
      "    xVec = np.zeros(numSteps)\n",
      "    vVec = np.zeros(numSteps)\n",
      "    aVec = np.zeros(numSteps)\n",
      "    tVec = np.zeros(numSteps)\n",
      "    \n",
      "    #Initial Conditions:\n",
      "    xi = 1\n",
      "    v0 = 0\n",
      "    ai = -1*xi\n",
      "    #Go \"back in time\" by delta t/2 to compture velocity at time -delta t/2. \n",
      "    vi = v0 - ai*deltaT/2\n",
      "\n",
      "    xVec[0] = xi\n",
      "    vVec[0] = vi\n",
      "    aVec[0] = ai\n",
      "    tVec[0] = 0\n",
      "\n",
      "    for i in range(1, numSteps):\n",
      "        x, v = numericalStep(xi, vi, deltaT)\n",
      "        xi = x\n",
      "        vi = v\n",
      "\n",
      "        xVec[i] = x\n",
      "        vVec[i] = v\n",
      "        aVec[i] = -1*x\n",
      "        tVec[i] = tVec[i-1]+deltaT\n",
      "        \n",
      "    fig = figure(0, (12,6))\n",
      "\n",
      "    plot(tVec, xVec, 'o',  markersize=10, markeredgecolor='none')\n",
      "    plot(tVec, vVec, 'o',  markersize=10, markeredgecolor='none')\n",
      "    plot(tVec, aVec, 'o',  markersize=10, markeredgecolor='none')\n",
      "    grid(1)\n",
      "    \n",
      "    xlim([0, 6.28])\n",
      "    ylim([-1.05, 1.05])\n",
      "    \n",
      "    legend(['Position', 'Velocity', 'Acceleration'])\n",
      "    xlabel('Time (Seconds)')\n"
     ],
     "language": "python",
     "metadata": {},
     "outputs": [],
     "prompt_number": 16
    },
    {
     "cell_type": "code",
     "collapsed": false,
     "input": [
      "interact(plotNumericalStep, numSteps = (1, 63))"
     ],
     "language": "python",
     "metadata": {},
     "outputs": [
      {
       "metadata": {},
       "output_type": "display_data",
       "png": "[encoded data removed]",
       "text": [
        "<matplotlib.figure.Figure at 0x106d30190>"
       ]
      }
     ],
     "prompt_number": 17
    },
    {
     "cell_type": "code",
     "collapsed": false,
     "input": [
      "numSteps = 63\n",
      "deltaT = 0.1\n",
      "\n",
      "#Initialize Vectors:\n",
      "xVec = np.zeros(numSteps)\n",
      "aVec = np.zeros(numSteps)\n",
      "tVec = np.zeros(numSteps)\n",
      "#Velocity at mid intervals:\n",
      "vVec = np.zeros(numSteps)\n",
      "\n",
      "#Velocity at intervals:\n",
      "vIVec = np.zeros(numSteps)\n",
      "\n",
      "#Initial Conditions:\n",
      "xi = 1\n",
      "v0 = 0\n",
      "ai = -1*xi\n",
      "#Go \"back in time\" by delta t/2 to compture velocity at time -delta t/2. \n",
      "vi = v0 - ai*deltaT/2\n",
      "\n",
      "xVec[0] = xi\n",
      "vVec[0] = vi\n",
      "aVec[0] = ai\n",
      "tVec[0] = 0\n",
      "\n",
      "for i in range(1, numSteps):\n",
      "    x, v = numericalStep(xi, vi, deltaT)\n",
      "    #Compute velocity at interval marks:\n",
      "    vIVec[i-1] = (v+vi)/2\n",
      "    xi = x\n",
      "    vi = v\n",
      "\n",
      "    xVec[i] = x\n",
      "    vVec[i] = v\n",
      "    aVec[i] = -1*x\n",
      "    tVec[i] = tVec[i-1]+deltaT\n",
      "    \n",
      "#Compute last element of vIVec, so lenghts match:\n",
      "x, v = numericalStep(xi, vi, deltaT)\n",
      "vIVec[i] = (v+vi)/2"
     ],
     "language": "python",
     "metadata": {},
     "outputs": [],
     "prompt_number": 18
    },
    {
     "cell_type": "markdown",
     "metadata": {},
     "source": [
      "So things are looking good - our predicted motion matches our actual motion. But where do these \"wave\" shapes come from? Yes, they are the natural motion of an oscillator, as we just discovered, but you've probably seen them elsewhere as well. We would like know more about these shapes, and it would be nice to have a more convenient way to express them mathematically then as just list of numbers, as we have now. "
     ]
    },
    {
     "cell_type": "code",
     "collapsed": false,
     "input": [
      "xVec"
     ],
     "language": "python",
     "metadata": {},
     "outputs": [
      {
       "metadata": {},
       "output_type": "pyout",
       "prompt_number": 6,
       "text": [
        "array([ 1.        ,  0.995     ,  0.98005   ,  0.9552995 ,  0.92099601,\n",
        "        0.87748255,  0.82519427,  0.76465405,  0.69646728,  0.62131585,\n",
        "        0.53995125,  0.45318714,  0.36189116,  0.26697627,  0.16939162,\n",
        "        0.07011305, -0.02986665, -0.12954768, -0.22793324, -0.32403946,\n",
        "       -0.41690529, -0.50560207, -0.58924283, -0.66699115, -0.73806957,\n",
        "       -0.80176729, -0.85744734, -0.90455291, -0.94261296, -0.97124687,\n",
        "       -0.99016832, -0.99918808, -0.99821597, -0.98726169, -0.9664348 ,\n",
        "       -0.93594355, -0.89609288, -0.84728127, -0.78999685, -0.72481246,\n",
        "       -0.65237995, -0.57342364, -0.48873309, -0.39915521, -0.30558578,\n",
        "       -0.2089605 , -0.1102456 , -0.01042825,  0.08949338,  0.18852008,\n",
        "        0.28566158,  0.37994646,  0.47043188,  0.55621297,  0.63643194,\n",
        "        0.71028659,  0.77703838,  0.83601978,  0.88664098,  0.92839577,\n",
        "        0.9608666 ,  0.98372877,  0.99675365])"
       ]
      }
     ],
     "prompt_number": 6
    },
    {
     "cell_type": "code",
     "collapsed": false,
     "input": [
      "vVec"
     ],
     "language": "python",
     "metadata": {},
     "outputs": [
      {
       "metadata": {},
       "output_type": "pyout",
       "prompt_number": 7,
       "text": [
        "array([ 0.05      , -0.05      , -0.1495    , -0.247505  , -0.34303495,\n",
        "       -0.43513455, -0.52288281, -0.60540223, -0.68186764, -0.75151437,\n",
        "       -0.81364595, -0.86764107, -0.91295979, -0.94914891, -0.97584653,\n",
        "       -0.9927857 , -0.999797  , -0.99681034, -0.98385557, -0.96106224,\n",
        "       -0.9286583 , -0.88696777, -0.83640756, -0.77748328, -0.71078416,\n",
        "       -0.63697721, -0.55680048, -0.47105574, -0.38060045, -0.28633916,\n",
        "       -0.18921447, -0.09019764,  0.00972117,  0.10954277,  0.20826894,\n",
        "        0.30491242,  0.39850677,  0.48811606,  0.57284419,  0.65184387,\n",
        "        0.72432512,  0.78956311,  0.84690548,  0.89577879,  0.93569431,\n",
        "        0.96625289,  0.98714894,  0.9981735 ,  0.99921632,  0.99026698,\n",
        "        0.97141498,  0.94284882,  0.90485417,  0.85781099,  0.80218969,\n",
        "        0.73854649,  0.66751783,  0.589814  ,  0.50621202,  0.41754792,\n",
        "        0.32470834,  0.22862168,  0.13024881])"
       ]
      }
     ],
     "prompt_number": 7
    },
    {
     "cell_type": "code",
     "collapsed": false,
     "input": [
      "fig = figure(0, (12,6))\n",
      "plot(tVec, xVec, 'o',  markersize=10, markeredgecolor='none')\n",
      "grid(1)\n",
      "\n",
      "xlim([0, 6.28])\n",
      "ylim([-1.05, 1.05])"
     ],
     "language": "python",
     "metadata": {},
     "outputs": [
      {
       "metadata": {},
       "output_type": "pyout",
       "prompt_number": 8,
       "text": [
        "(-1.05, 1.05)"
       ]
      },
      {
       "metadata": {},
       "output_type": "display_data",
       "png": "[encoded data removed]",
       "text": [
        "<matplotlib.figure.Figure at 0x1064d03d0>"
       ]
      }
     ],
     "prompt_number": 8
    },
    {
     "cell_type": "code",
     "collapsed": false,
     "input": [
      "fig = figure(0, (5,5))\n",
      "plot(xVec, vIVec, 'o',  markersize=10, markeredgecolor='none')\n",
      "grid(1)\n",
      "\n",
      "xlim([-1.1, 1.1])\n",
      "ylim([-1.1, 1.1])"
     ],
     "language": "python",
     "metadata": {},
     "outputs": [
      {
       "metadata": {},
       "output_type": "pyout",
       "prompt_number": 9,
       "text": [
        "(-1.1, 1.1)"
       ]
      },
      {
       "metadata": {},
       "output_type": "display_data",
       "png": "[encoded data removed]",
       "text": [
        "<matplotlib.figure.Figure at 0x106699250>"
       ]
      }
     ],
     "prompt_number": 9
    },
    {
     "cell_type": "markdown",
     "metadata": {},
     "source": [
      "When we view our motion this way, we see the relationship between velocity and position are connected by a circle! The motion we setup starts on the far right side with zero velocity and a position of 1. As the position decreases and the mass moves back to equilibrium, velocity increases is such a way that our position vs. velocity graph exactly traces a circle!"
     ]
    },
    {
     "cell_type": "code",
     "collapsed": false,
     "input": [
      "def plotXV(numSteps):\n",
      "    fig = figure(0, (5,5))\n",
      "    plot(xVec[0:numSteps], vIVec[0:numSteps], 'o',  markersize=10, markeredgecolor='none')\n",
      "    grid(1)\n",
      "\n",
      "    xlim([-1.1, 1.1])\n",
      "    ylim([-1.1, 1.1])"
     ],
     "language": "python",
     "metadata": {},
     "outputs": [],
     "prompt_number": 19
    },
    {
     "cell_type": "code",
     "collapsed": false,
     "input": [
      "interact(plotXV, numSteps=(1, 63))"
     ],
     "language": "python",
     "metadata": {},
     "outputs": [
      {
       "metadata": {},
       "output_type": "display_data",
       "png": "[encoded data removed]",
       "text": [
        "<matplotlib.figure.Figure at 0x10769aa50>"
       ]
      }
     ],
     "prompt_number": 20
    },
    {
     "cell_type": "code",
     "collapsed": false,
     "input": [
      "def plotNumericalStepAndCircle(numSteps = 1):\n",
      "    #Function that setups up initial conditions, iterates through method, and plots results:\n",
      "    deltaT = 0.1\n",
      "\n",
      "    #Initialize Vectors:\n",
      "    xVec = np.zeros(numSteps)\n",
      "    aVec = np.zeros(numSteps)\n",
      "    tVec = np.zeros(numSteps)\n",
      "    \n",
      "    #Velocity at mid intervals:\n",
      "    vVec = np.zeros(numSteps)\n",
      "\n",
      "    #Velocity at intervals:\n",
      "    vIVec = np.zeros(numSteps)\n",
      "    \n",
      "    #Initial Conditions:\n",
      "    xi = 1\n",
      "    v0 = 0\n",
      "    ai = -1*xi\n",
      "    #Go \"back in time\" by delta t/2 to compture velocity at time -delta t/2. \n",
      "    vi = v0 - ai*deltaT/2\n",
      "\n",
      "    xVec[0] = xi\n",
      "    vVec[0] = vi\n",
      "    aVec[0] = ai\n",
      "    tVec[0] = 0\n",
      "\n",
      "    i = 0\n",
      "    for i in range(1, numSteps):\n",
      "        x, v = numericalStep(xi, vi, deltaT)\n",
      "        #Compute velocity at interval marks:\n",
      "        vIVec[i-1] = (v+vi)/2\n",
      "        xi = x\n",
      "        vi = v\n",
      "\n",
      "        xVec[i] = x\n",
      "        vVec[i] = v\n",
      "        aVec[i] = -1*x\n",
      "        tVec[i] = tVec[i-1]+deltaT\n",
      "        \n",
      "    #Compute last element of vIVec, so lenghts match:\n",
      "    x, v = numericalStep(xi, vi, deltaT)\n",
      "    vIVec[i] = (v+vi)/2\n",
      "    \n",
      "    #And plot!\n",
      "    fig = figure(0, (12,4))\n",
      "    gs = GridSpec(100, 100)\n",
      "    \n",
      "    ax1 = fig.add_subplot(gs[:,0:30])\n",
      "    ax1.plot(xVec, vIVec, 'o',  markersize=10, markeredgecolor='none')\n",
      "    grid(1)\n",
      "    xlabel('Position')\n",
      "    ylabel('Velocity')\n",
      "\n",
      "    xlim([-1.1, 1.1])\n",
      "    ylim([-1.1, 1.1])\n",
      "    \n",
      "    ax2 = fig.add_subplot(gs[:,35:100])\n",
      "    ax2.plot(tVec, xVec, 'o',  markersize=10, markeredgecolor='none')\n",
      "    ax2.plot(tVec, vVec, 'o',  markersize=10, markeredgecolor='none')\n",
      "    ax2.plot(tVec, aVec, 'o',  markersize=10, markeredgecolor='none')\n",
      "    grid(1)\n",
      "    \n",
      "    xlim([0, 6.28])\n",
      "    ylim([-1.05, 1.05])\n",
      "    \n",
      "    legend(['Position', 'Velocity', 'Acceleration'])\n",
      "    xlabel('Time (Seconds)')\n"
     ],
     "language": "python",
     "metadata": {},
     "outputs": [],
     "prompt_number": 12
    },
    {
     "cell_type": "code",
     "collapsed": false,
     "input": [
      "interact(plotNumericalStepAndCircle, numSteps = (1, 63))"
     ],
     "language": "python",
     "metadata": {},
     "outputs": [
      {
       "metadata": {},
       "output_type": "display_data",
       "png": "[encoded data removed]",
       "text": [
        "<matplotlib.figure.Figure at 0x1070fd7d0>"
       ]
      }
     ],
     "prompt_number": 13
    },
    {
     "cell_type": "markdown",
     "metadata": {},
     "source": [
      "So it appears there is some relationship between the way oscillators move and circles. And that's what we're going to explore next time!"
     ]
    },
    {
     "cell_type": "code",
     "collapsed": false,
     "input": [],
     "language": "python",
     "metadata": {},
     "outputs": []
    }
   ],
   "metadata": {}
  }
 ]
}